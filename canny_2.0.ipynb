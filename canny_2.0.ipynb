{
 "cells": [
  {
   "cell_type": "code",
   "execution_count": 1,
   "metadata": {},
   "outputs": [],
   "source": [
    "import numpy as np\n",
    "from skimage import io,color\n",
    "from scipy import signal,ndimage\n",
    "from matplotlib import pyplot as plt\n",
    "import queue\n",
    "from scipy.ndimage import gaussian_filter\n",
    "from PIL import Image\n",
    "import glob\n",
    "from numpy.lib.stride_tricks import as_strided\n",
    "\n",
    "q = queue.SimpleQueue()"
   ]
  },
  {
   "cell_type": "code",
   "execution_count": 2,
   "metadata": {},
   "outputs": [],
   "source": [
    "# Gaussian filter\n",
    "def Gaussian(size, sigma): #5x5\n",
    "    size = int(size) //2\n",
    "    x, y = np.mgrid[-size:size+1, -size:size+1]\n",
    "    normalization = 1/(2.0*np.pi*sigma**2)\n",
    "    return np.exp(-((x**2+y**2))/2)*normalization"
   ]
  },
  {
   "cell_type": "code",
   "execution_count": 3,
   "metadata": {},
   "outputs": [],
   "source": [
    "# Sobel filter\n",
    "def sobel_filters(img):\n",
    "    # sobel filter init\n",
    "    sobel_x = np.array([[1, 0, -1],\n",
    "                        [2, 0, -2],\n",
    "                        [1, 0, -1]])\n",
    "    sobel_y = sobel_x.ravel(order='F').reshape((3,3))\n",
    "\n",
    "    \n",
    "    ## sobel filtering\n",
    "    sobel_x_img = signal.convolve2d(img,sobel_x, boundary = 'symm')\n",
    "    sobel_y_img = signal.convolve2d(img,sobel_y, boundary = 'symm')\n",
    "    \n",
    "    sobel_img = np.sqrt(np.square(sobel_x_img) + np.square(sobel_y_img))\n",
    "    sobel_img = sobel_img / sobel_img.max() * 255\n",
    "    sobel_direc = np.arctan2(sobel_x_img, sobel_y_img)\n",
    "\n",
    "#     print(sobel_img)\n",
    "#     print(sobel_direc)\n",
    "#     print('sobel_img', sobel_img.shape, '\\nsobel_direc',sobel_direc.shape)\n",
    "\n",
    "    return sobel_img,sobel_direc"
   ]
  },
  {
   "cell_type": "code",
   "execution_count": 28,
   "metadata": {},
   "outputs": [
    {
     "name": "stdout",
     "output_type": "stream",
     "text": [
      "Wall time: 0 ns\n"
     ]
    }
   ],
   "source": [
    "# Non Maximum suppression\n",
    "%time\n",
    "def non_max_sup(box,direc):\n",
    "    \n",
    "    y_len, x_len = box.shape\n",
    "    \n",
    "    # return array\n",
    "    keep = np.zeros((y_len-2)*(x_len-2))\n",
    "    \n",
    "    frame_1 = np.zeros((3,3))\n",
    "    frame_2 = np.zeros(3)\n",
    "        \n",
    "    \n",
    "    s = np.array([-np.pi, -np.pi*7/8, -np.pi*5/8, -np.pi*3/8, -np.pi/8, np.pi/8, np.pi*3/8, np.pi*5/8, np.pi*7/8, np.pi])\n",
    "    \n",
    "    sector = np.digitize(direc, s)\n",
    "    sector[(sector == 1) | (sector == 5) | (sector == 9)] = 0\n",
    "    sector[(sector == 2)| (sector == 6)] = 1\n",
    "    sector[(sector == 3) | (sector == 7)] = 2\n",
    "    sector[(sector == 4) | (sector == 8)] = 3\n",
    "\n",
    "    sectoring = sector[1:-1,1:-1]\n",
    "    sectoring = sectoring.flatten()\n",
    "      \n",
    "    expanded_input = as_strided(\n",
    "        box,\n",
    "        shape=(\n",
    "            box.shape[0] - frame_1.shape[0] + 1,  # The feature map is a few pixels smaller than the input\n",
    "            box.shape[1] - frame_1.shape[1] + 1,\n",
    "            3,3\n",
    "        ),\n",
    "        strides=(\n",
    "            box.strides[0],\n",
    "            box.strides[1],\n",
    "            box.strides[0],  # When we move one step in the 3rd dimension, we should move one step in the original data too\n",
    "            box.strides[1],\n",
    "        ),\n",
    "        writeable=False,  # totally use this to avoid writing to memory in weird places\n",
    "    )\n",
    "    \n",
    "    a = expanded_input.reshape((y_len-2)*(x_len-2),9)\n",
    "    angle = np.array([  [False, True, False, False, True, False, False, True, False],\n",
    "                        [True, False, False, False, True, False, False, False, True],\n",
    "                        [False, False, False, True, True, True, False, False, False],\n",
    "                        [False, False, True, False, True, False, True, False, False] ])\n",
    "    \n",
    "    a[np.where(sectoring == 0)] = a[np.where(sectoring == 0)]*angle[0]\n",
    "    a[np.where(sectoring == 1)] = a[np.where(sectoring == 1)]*angle[1]\n",
    "    a[np.where(sectoring == 2)] = a[np.where(sectoring == 2)]*angle[2]\n",
    "    a[np.where(sectoring == 3)] = a[np.where(sectoring == 3)]*angle[3]\n",
    "    \n",
    "    max_position = np.argmax(a, axis=1).reshape((y_len-2)*(x_len-2),1)\n",
    "    a[np.where(max_position != 4)[0],4] = a[np.where(max_position != 4)[0],4]*0\n",
    "    \n",
    "    keep = a[:,4].reshape(y_len-2,x_len-2)\n",
    "            \n",
    "    return keep"
   ]
  },
  {
   "cell_type": "code",
   "execution_count": 29,
   "metadata": {},
   "outputs": [],
   "source": [
    "# double threshold\n",
    "def threshold(img, high_threshold, low_threshold, strong_pixel, weak_pixel):#strong, weak, non-relevant\n",
    "    \n",
    "    m,n=img.shape\n",
    "    img[img>=high_threshold] = strong_pixel\n",
    "    img[img<low_threshold] = 0\n",
    "    return img"
   ]
  },
  {
   "cell_type": "code",
   "execution_count": 30,
   "metadata": {},
   "outputs": [],
   "source": [
    "def replay(box, keep, max_var):\n",
    "    \n",
    "    y_len, x_len = box.shape\n",
    "    \n",
    "    frame = np.zeros((3, 3))\n",
    "    \n",
    "    while not q.empty():\n",
    "        i,j = q.get()\n",
    "        \n",
    "        if box[i,j] != max_var :\n",
    "            \n",
    "            box[i,j] = max_var\n",
    "            keep[i-1,j-1] = max_var\n",
    "            \n",
    "            frame[:] = box[i-1:i+2, j-1:j+2]\n",
    "            \n",
    "            for n in range(0,3):\n",
    "                for m in range(0,3):\n",
    "                    if frame[n,m] > 0 and frame[n,m] < max_var:\n",
    "                        q.put((i+n-1,j+m-1))"
   ]
  },
  {
   "cell_type": "code",
   "execution_count": 7,
   "metadata": {},
   "outputs": [],
   "source": [
    "def hysteresis(box, max_var):\n",
    "    \n",
    "    y_len, x_len = box.shape\n",
    "\n",
    "    box_2 = np.zeros((y_len + 2, x_len + 2))\n",
    "    box_2[1:-1, 1:-1] = box[:]\n",
    "    \n",
    "    keep = np.zeros((y_len,x_len))\n",
    "    \n",
    "    frame = np.zeros((3, 3))\n",
    "    frame_2 = np.zeros(9)\n",
    "    \n",
    "    for i in range(0, y_len):\n",
    "        for j in range(0, x_len):\n",
    "            \n",
    "            if box_2[i+1, j+1] == max_var :\n",
    "                \n",
    "                keep[i,j] = max_var\n",
    "                \n",
    "                frame = box_2[i:i+3, j:j+3]\n",
    "                \n",
    "                for n in range(0,3):\n",
    "                    for m in range(0,3):\n",
    "                        if frame[n,m] > 0 and frame[n,m] < max_var:\n",
    "                            q.put((i+n,j+m))\n",
    "            \n",
    "            \n",
    "                while not q.empty():\n",
    "                    replay(box_2, keep, max_var)\n",
    "                        \n",
    "    return keep"
   ]
  },
  {
   "cell_type": "code",
   "execution_count": 20,
   "metadata": {},
   "outputs": [],
   "source": [
    "def show_image(img):\n",
    "    plt.figure(figsize=(8,16))\n",
    "    if img.shape[0] == 3:\n",
    "        img=img.transpose(1,2,0)\n",
    "    plt.subplot(2,2,1)\n",
    "    plt.imshow(img,cmap='gray')\n",
    "    plt.show()"
   ]
  },
  {
   "cell_type": "code",
   "execution_count": 21,
   "metadata": {},
   "outputs": [],
   "source": [
    "def Canny_detector(img):\n",
    "    gaussian_size=5\n",
    "    sigma = 5\n",
    "    high_thres=50\n",
    "    low_thres=30\n",
    "    strong_pixel=255\n",
    "    weak_pixel=100\n",
    "    \n",
    "    #sigma= int(input(\"Input sigma::\"))\n",
    "    #high_thres, low_thres = map(float, input(\"Input high_thres, low_threshold::\").split())\n",
    "    #print(sigma, high_thres, low_thres)\n",
    "    \n",
    "    smoothed_image1=signal.convolve2d(img,Gaussian(gaussian_size, sigma),mode='same',boundary = 'symm')\n",
    "    \n",
    "    gradient, theta=sobel_filters(smoothed_image1)\n",
    "    nonMax_Img= non_max_sup(gradient, theta)\n",
    "    # show_image(nonMax_Img)\n",
    "    \n",
    "    threshold_Img=threshold(nonMax_Img, high_thres, low_thres, strong_pixel, weak_pixel)    \n",
    "    img_final=hysteresis(threshold_Img, strong_pixel)\n",
    "    \n",
    "    return img_final"
   ]
  },
  {
   "cell_type": "code",
   "execution_count": 27,
   "metadata": {},
   "outputs": [
    {
     "data": {
      "image/png": "[encoded data removed]",
      "text/plain": [
       "<Figure size 576x1152 with 1 Axes>"
      ]
     },
     "metadata": {
      "needs_background": "light"
     },
     "output_type": "display_data"
    },
    {
     "name": "stdout",
     "output_type": "stream",
     "text": [
      "5 50 30\n",
      "Time == 0.46\n"
     ]
    },
    {
     "data": {
      "image/png": "[encoded data removed]",
      "text/plain": [
       "<Figure size 576x1152 with 1 Axes>"
      ]
     },
     "metadata": {
      "needs_background": "light"
     },
     "output_type": "display_data"
    }
   ],
   "source": [
    "import time\n",
    "import cv2 as cv\n",
    "start=time.time()\n",
    "test_img = 'data/model02.jpg'\n",
    "img = io.imread(test_img,True)\n",
    "show_image(img)\n",
    "img=Canny_detector(img)\n",
    "\n",
    "end = time.time()\n",
    "print(\"Time == {:.2f}\".format(end-start))\n",
    "show_image(img)"
   ]
  },
  {
   "cell_type": "code",
   "execution_count": null,
   "metadata": {},
   "outputs": [],
   "source": [
    "a=np.asarray([[1,2,3],[-1,-1,-1]])\n",
    "b= np.array([[0,1,2],[2,3,1]])\n",
    "a[ (b==1) 각도에 맞게 \n",
    "  슬라이싱을 해서 그 3가지 값을 비교해서 그중 가장 크면 ] = 남겨\n",
    "a"
   ]
  },
  {
   "cell_type": "code",
   "execution_count": 2,
   "metadata": {},
   "outputs": [
    {
     "data": {
      "text/plain": [
       "array([[0, 1, 2, 3, 4],\n",
       "       [5, 6, 7, 8, 9]])"
      ]
     },
     "execution_count": 2,
     "metadata": {},
     "output_type": "execute_result"
    }
   ],
   "source": [
    "x=np.arange(10).reshape((2,5))\n",
    "x"
   ]
  },
  {
   "cell_type": "code",
   "execution_count": 14,
   "metadata": {},
   "outputs": [
    {
     "name": "stdout",
     "output_type": "stream",
     "text": [
      "5\n",
      "(2,)\n",
      "(2, 3, 3)\n",
      "(20, 4)\n",
      "(4,)\n",
      "(20, 4, 4)\n"
     ]
    },
    {
     "data": {
      "text/plain": [
       "array([[[0, 1, 2],\n",
       "        [1, 2, 3],\n",
       "        [2, 3, 4]],\n",
       "\n",
       "       [[5, 6, 7],\n",
       "        [6, 7, 8],\n",
       "        [7, 8, 9]]])"
      ]
     },
     "execution_count": 14,
     "metadata": {},
     "output_type": "execute_result"
    }
   ],
   "source": [
    "def rolling_window(a, window):\n",
    "    shape = a.shape[:-1] + (a.shape[-1] - window + 1, window)# 2+3,3\n",
    "    print(a.shape[-1])# 5\n",
    "    print(a.shape[:-1])# (2,)\n",
    "    print(shape)# (2,3,3)\n",
    "    \n",
    "    strides = a.strides + (a.strides[-1],)\n",
    "    \n",
    "    print(a.strides)\n",
    "    print((a.strides[-1],))\n",
    "    print(strides)\n",
    "    return np.lib.stride_tricks.as_strided(a, shape=shape, strides=strides)\n",
    "\n",
    "rolling_window(x,3)"
   ]
  },
  {
   "cell_type": "code",
   "execution_count": 63,
   "metadata": {},
   "outputs": [
    {
     "name": "stdout",
     "output_type": "stream",
     "text": [
      "time == 0.2455148696899414\n"
     ]
    },
    {
     "data": {
      "text/plain": [
       "array([[ 101.,  102.,  103., ...,  196.,  197.,  198.],\n",
       "       [ 201.,  202.,  203., ...,  296.,  297.,  298.],\n",
       "       [ 301.,  302.,  303., ...,  396.,  397.,  398.],\n",
       "       ...,\n",
       "       [9601., 9602., 9603., ..., 9696., 9697., 9698.],\n",
       "       [9701., 9702., 9703., ..., 9796., 9797., 9798.],\n",
       "       [9801., 9802., 9803., ..., 9896., 9897., 9898.]])"
      ]
     },
     "execution_count": 63,
     "metadata": {},
     "output_type": "execute_result"
    }
   ],
   "source": [
    "import time\n",
    "inputs = np.arange(10000).reshape(100, 100)\n",
    "kernel = np.asarray([[0,0,0],\n",
    "                    [0,1,0],\n",
    "                    [0,0,0]])\n",
    "\n",
    "\n",
    "feature_map = np.zeros(\n",
    "   (inputs.shape[0] - kernel.shape[0] + 1,\n",
    "    inputs.shape[1] - kernel.shape[1] + 1,\n",
    "))\n",
    "\n",
    "start=time.time()\n",
    "\n",
    "for x in range(inputs.shape[0] - kernel.shape[0] + 1):\n",
    "    for y in range(inputs.shape[1] - kernel.shape[1] + 1):\n",
    "        for i in range(kernel.shape[0]):\n",
    "            for j in range(kernel.shape[1]):\n",
    "                feature_map[x][y] += inputs[x + i][y + j] * kernel[i][j]\n",
    "                \n",
    "print(\"time == {}\".format((time.time()-start)))\n",
    "feature_map                "
   ]
  },
  {
   "cell_type": "code",
   "execution_count": 65,
   "metadata": {},
   "outputs": [
    {
     "name": "stdout",
     "output_type": "stream",
     "text": [
      "time == 0.000997781753540039\n",
      "[[ 101  102  103 ...  196  197  198]\n",
      " [ 201  202  203 ...  296  297  298]\n",
      " [ 301  302  303 ...  396  397  398]\n",
      " ...\n",
      " [9601 9602 9603 ... 9696 9697 9698]\n",
      " [9701 9702 9703 ... 9796 9797 9798]\n",
      " [9801 9802 9803 ... 9896 9897 9898]]\n"
     ]
    }
   ],
   "source": [
    "from numpy.lib.stride_tricks import as_strided\n",
    "\n",
    "\n",
    "input = np.arange(10000).reshape(100, 100)\n",
    "kernel = np.asarray([[0,0,0],\n",
    "                    [0,1,0],\n",
    "                    [0,0,0]])\n",
    "\n",
    "start=time.time()\n",
    "expanded_input = as_strided(\n",
    "    input,\n",
    "    shape=(\n",
    "        input.shape[0] - kernel.shape[0] + 1,  # The feature map is a few pixels smaller than the input\n",
    "        input.shape[1] - kernel.shape[1] + 1,\n",
    "        kernel.shape[0],\n",
    "        kernel.shape[1],\n",
    "    ),\n",
    "    strides=(\n",
    "        input.strides[0],\n",
    "        input.strides[1],\n",
    "        input.strides[0],  # When we move one step in the 3rd dimension, we should move one step in the original data too\n",
    "        input.strides[1],\n",
    "    ),\n",
    "    writeable=False,  # totally use this to avoid writing to memory in weird places\n",
    ")\n",
    "#expanded_input\n",
    "\n",
    "feature_map = np.einsum('xyij,ij->xy',expanded_input,kernel,)\n",
    "print(\"time == {}\".format((time.time()-start)))\n",
    "print(feature_map)\n",
    "#np.mean(expanded_input,-1)"
   ]
  }
 ],
 "metadata": {
  "kernelspec": {
   "display_name": "Python 3",
   "language": "python",
   "name": "python3"
  },
  "language_info": {
   "codemirror_mode": {
    "name": "ipython",
    "version": 3
   },
   "file_extension": ".py",
   "mimetype": "text/x-python",
   "name": "python",
   "nbconvert_exporter": "python",
   "pygments_lexer": "ipython3",
   "version": "3.7.4"
  }
 },
 "nbformat": 4,
 "nbformat_minor": 4
}
